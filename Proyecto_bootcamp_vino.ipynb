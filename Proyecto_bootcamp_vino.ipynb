{
  "cells": [
    {
      "cell_type": "code",
      "execution_count": null,
      "metadata": {
        "id": "5HumL9AShIr6"
      },
      "outputs": [],
      "source": [
        "#se importan las bibliotecas o diccionarios necesarios\n",
        "import pandas as pd\n",
        "import numpy as np\n",
        "import re\n",
        "import nltk\n",
        "from nltk.tokenize import word_tokenize\n",
        "from nltk.stem import PorterStemmer\n",
        "from sklearn.linear_model import LogisticRegression\n",
        "from sklearn.metrics import accuracy_score\n",
        "\n"
      ]
    },
    {
      "cell_type": "code",
      "execution_count": null,
      "metadata": {
        "colab": {
          "base_uri": "https://localhost:8080/"
        },
        "id": "c6wAQNKBg3Z4",
        "outputId": "7705e9ad-223e-4f41-cabc-d2a85b57e718"
      },
      "outputs": [
        {
          "output_type": "stream",
          "name": "stdout",
          "text": [
            "File read successfully.\n",
            "   Unnamed: 0   country                                        description  \\\n",
            "0           0     Italy  Aromas include tropical fruit, broom, brimston...   \n",
            "1           1  Portugal  This is ripe and fruity, a wine that is smooth...   \n",
            "2           2        US  Tart and snappy, the flavors of lime flesh and...   \n",
            "3           3        US  Pineapple rind, lemon pith and orange blossom ...   \n",
            "4           4        US  Much like the regular bottling from 2012, this...   \n",
            "\n",
            "                          designation  points  price           province  \\\n",
            "0                        Vulkà Bianco      87    NaN  Sicily & Sardinia   \n",
            "1                            Avidagos      87   15.0              Douro   \n",
            "2                                 NaN      87   14.0             Oregon   \n",
            "3                Reserve Late Harvest      87   13.0           Michigan   \n",
            "4  Vintner's Reserve Wild Child Block      87   65.0             Oregon   \n",
            "\n",
            "              region_1           region_2         taster_name  \\\n",
            "0                 Etna                NaN       Kerin O’Keefe   \n",
            "1                  NaN                NaN          Roger Voss   \n",
            "2    Willamette Valley  Willamette Valley        Paul Gregutt   \n",
            "3  Lake Michigan Shore                NaN  Alexander Peartree   \n",
            "4    Willamette Valley  Willamette Valley        Paul Gregutt   \n",
            "\n",
            "  taster_twitter_handle                                              title  \\\n",
            "0          @kerinokeefe                  Nicosia 2013 Vulkà Bianco  (Etna)   \n",
            "1            @vossroger      Quinta dos Avidagos 2011 Avidagos Red (Douro)   \n",
            "2           @paulgwine       Rainstorm 2013 Pinot Gris (Willamette Valley)   \n",
            "3                   NaN  St. Julian 2013 Reserve Late Harvest Riesling ...   \n",
            "4           @paulgwine   Sweet Cheeks 2012 Vintner's Reserve Wild Child...   \n",
            "\n",
            "          variety               winery  \n",
            "0     White Blend              Nicosia  \n",
            "1  Portuguese Red  Quinta dos Avidagos  \n",
            "2      Pinot Gris            Rainstorm  \n",
            "3        Riesling           St. Julian  \n",
            "4      Pinot Noir         Sweet Cheeks  \n"
          ]
        }
      ],
      "source": [
        "#se tuvo dificultades para que el programa leyera el archivo por varios errores en el mismo, se usa este codigo cuya función es poder hacer la lectura de archivos de forma tal, que se pueda tener un control sobre los errores.\n",
        "\n",
        "try:\n",
        "    df = pd.read_csv(\"/content/winemag-data-130k-v2.csv\")\n",
        "except pd.errors.ParserError as e:\n",
        "    print(f\"ParserError: {e}\")\n",
        "except FileNotFoundError as e:\n",
        "    print(f\"FileNotFoundError: {e}\")\n",
        "    print(f\"FileNotFoundError: {e}\")\n",
        "except Exception as e:\n",
        "    print(f\"An unexpected error occurred: {e}\")\n",
        "else:\n",
        "    print(\"File read successfully.\")\n",
        "    print(df.head(5))\n",
        "\n",
        "\n"
      ]
    },
    {
      "cell_type": "code",
      "execution_count": null,
      "metadata": {
        "id": "OqifkRp4g9su"
      },
      "outputs": [],
      "source": [
        "#limpieza de los tweets\n",
        "def clean_tweet(tweet):\n",
        "    tweet = re.sub(r'http\\S+', '', tweet)  # Eliminar URLs\n",
        "    tweet = re.sub(r'@\\w+', '', tweet)  # Eliminar menciones\n",
        "    tweet = re.sub(r'#\\w+', '', tweet)  # Eliminar hashtags\n",
        "    tweet = re.sub(r'[^a-zA-Z\\s]', '', tweet)  # Eliminar caracteres especiales\n",
        "    tweet = tweet.lower()  # Convertir a minúsculas\n",
        "    return tweet\n"
      ]
    },
    {
      "cell_type": "code",
      "execution_count": null,
      "metadata": {
        "id": "4arlpPlMhnvh"
      },
      "outputs": [],
      "source": [
        "df['Cleaned_Tweet'] = df['description'].apply(clean_tweet)"
      ]
    },
    {
      "cell_type": "code",
      "source": [
        "#se imprime para verificar que todo haya sido borrado y que en efecto, se haya creado una nueva columna.\n",
        "print(df.head(5))"
      ],
      "metadata": {
        "colab": {
          "base_uri": "https://localhost:8080/"
        },
        "id": "7sCv7WbULlrt",
        "outputId": "5c4db919-2af2-4542-9b68-f274dac6c658"
      },
      "execution_count": null,
      "outputs": [
        {
          "output_type": "stream",
          "name": "stdout",
          "text": [
            "   Unnamed: 0   country                                        description  \\\n",
            "0           0     Italy  Aromas include tropical fruit, broom, brimston...   \n",
            "1           1  Portugal  This is ripe and fruity, a wine that is smooth...   \n",
            "2           2        US  Tart and snappy, the flavors of lime flesh and...   \n",
            "3           3        US  Pineapple rind, lemon pith and orange blossom ...   \n",
            "4           4        US  Much like the regular bottling from 2012, this...   \n",
            "\n",
            "                          designation  points  price           province  \\\n",
            "0                        Vulkà Bianco      87    NaN  Sicily & Sardinia   \n",
            "1                            Avidagos      87   15.0              Douro   \n",
            "2                                 NaN      87   14.0             Oregon   \n",
            "3                Reserve Late Harvest      87   13.0           Michigan   \n",
            "4  Vintner's Reserve Wild Child Block      87   65.0             Oregon   \n",
            "\n",
            "              region_1           region_2         taster_name  \\\n",
            "0                 Etna                NaN       Kerin O’Keefe   \n",
            "1                  NaN                NaN          Roger Voss   \n",
            "2    Willamette Valley  Willamette Valley        Paul Gregutt   \n",
            "3  Lake Michigan Shore                NaN  Alexander Peartree   \n",
            "4    Willamette Valley  Willamette Valley        Paul Gregutt   \n",
            "\n",
            "  taster_twitter_handle                                              title  \\\n",
            "0          @kerinokeefe                  Nicosia 2013 Vulkà Bianco  (Etna)   \n",
            "1            @vossroger      Quinta dos Avidagos 2011 Avidagos Red (Douro)   \n",
            "2           @paulgwine       Rainstorm 2013 Pinot Gris (Willamette Valley)   \n",
            "3                   NaN  St. Julian 2013 Reserve Late Harvest Riesling ...   \n",
            "4           @paulgwine   Sweet Cheeks 2012 Vintner's Reserve Wild Child...   \n",
            "\n",
            "          variety               winery  \\\n",
            "0     White Blend              Nicosia   \n",
            "1  Portuguese Red  Quinta dos Avidagos   \n",
            "2      Pinot Gris            Rainstorm   \n",
            "3        Riesling           St. Julian   \n",
            "4      Pinot Noir         Sweet Cheeks   \n",
            "\n",
            "                                       Cleaned_Tweet  \n",
            "0  aromas include tropical fruit broom brimstone ...  \n",
            "1  this is ripe and fruity a wine that is smooth ...  \n",
            "2  tart and snappy the flavors of lime flesh and ...  \n",
            "3  pineapple rind lemon pith and orange blossom s...  \n",
            "4  much like the regular bottling from  this come...  \n"
          ]
        }
      ]
    },
    {
      "cell_type": "code",
      "execution_count": null,
      "metadata": {
        "id": "dUrodtCUiFsu",
        "colab": {
          "base_uri": "https://localhost:8080/"
        },
        "outputId": "29e31413-4c10-4b25-cfbf-1cf82bc474ce"
      },
      "outputs": [
        {
          "output_type": "stream",
          "name": "stderr",
          "text": [
            "[nltk_data] Downloading package punkt to /root/nltk_data...\n",
            "[nltk_data]   Unzipping tokenizers/punkt.zip.\n"
          ]
        }
      ],
      "source": [
        "#tokenización y stemming para la tranformación de los datos, permiten el procesamiento del lenguaje natural (con NLTK como biblioteca de elección), dividen las oraciones por palabras y las regresan a su raíz, se eliminan también, palabras conectoras que no aportan al análisis\n",
        "nltk.download('punkt')\n",
        "ps = PorterStemmer()"
      ]
    },
    {
      "cell_type": "code",
      "execution_count": null,
      "metadata": {
        "id": "HrQSx_yhhp2p"
      },
      "outputs": [],
      "source": [
        "def preprocess_tweet(tweet):\n",
        "    tokens = word_tokenize(tweet)\n",
        "    tokens = [ps.stem(w) for w in tokens]\n",
        "    return ' '.join(tokens)\n"
      ]
    },
    {
      "cell_type": "code",
      "execution_count": null,
      "metadata": {
        "id": "tL9stdzgi7Bo"
      },
      "outputs": [],
      "source": [
        "#stopwords, quita las palabras como \"el\" , \"la \" de la oración, en este caso el dataset esta todo en ingles, asi que en la siguiente linea de código se aclara el idioma."
      ]
    },
    {
      "cell_type": "code",
      "execution_count": null,
      "metadata": {
        "id": "JGjpy-HdjCtP",
        "colab": {
          "base_uri": "https://localhost:8080/"
        },
        "outputId": "536d343e-f247-4d06-8d29-6cb4d9fac784"
      },
      "outputs": [
        {
          "output_type": "stream",
          "name": "stderr",
          "text": [
            "[nltk_data] Downloading package stopwords to /root/nltk_data...\n",
            "[nltk_data]   Unzipping corpora/stopwords.zip.\n"
          ]
        }
      ],
      "source": [
        "from nltk.corpus import stopwords\n",
        "nltk.download('stopwords')\n",
        "stop_words = set(stopwords.words('english'))"
      ]
    },
    {
      "cell_type": "code",
      "execution_count": null,
      "metadata": {
        "id": "4qv9cnnZjLOW"
      },
      "outputs": [],
      "source": [
        "def preprocess_tweet(tweet):\n",
        "    tokens = word_tokenize(tweet)\n",
        "    tokens = [ps.stem(w) for w in tokens if w not in stop_words]\n",
        "    return ' '.join(tokens)\n"
      ]
    },
    {
      "cell_type": "code",
      "execution_count": null,
      "metadata": {
        "id": "RF3FlGX4jQoK"
      },
      "outputs": [],
      "source": [
        "df['Processed_Tweet'] = df['Cleaned_Tweet'].apply(preprocess_tweet)"
      ]
    },
    {
      "cell_type": "code",
      "source": [
        "#de nuevo se imprime para ver que la función anterior haya funcionado, que las columnas pertinentes se hayan creado y como se puede ver, las palabras cambian en la colimnas de processed_tweets\n",
        "print(df.head(5))"
      ],
      "metadata": {
        "colab": {
          "base_uri": "https://localhost:8080/"
        },
        "id": "blJYlhU0MU3l",
        "outputId": "c2c0dd0c-e547-4243-9e3d-59df4a1b6465"
      },
      "execution_count": null,
      "outputs": [
        {
          "output_type": "stream",
          "name": "stdout",
          "text": [
            "   Unnamed: 0   country                                        description  \\\n",
            "0           0     Italy  Aromas include tropical fruit, broom, brimston...   \n",
            "1           1  Portugal  This is ripe and fruity, a wine that is smooth...   \n",
            "2           2        US  Tart and snappy, the flavors of lime flesh and...   \n",
            "3           3        US  Pineapple rind, lemon pith and orange blossom ...   \n",
            "4           4        US  Much like the regular bottling from 2012, this...   \n",
            "\n",
            "                          designation  points  price           province  \\\n",
            "0                        Vulkà Bianco      87    NaN  Sicily & Sardinia   \n",
            "1                            Avidagos      87   15.0              Douro   \n",
            "2                                 NaN      87   14.0             Oregon   \n",
            "3                Reserve Late Harvest      87   13.0           Michigan   \n",
            "4  Vintner's Reserve Wild Child Block      87   65.0             Oregon   \n",
            "\n",
            "              region_1           region_2         taster_name  \\\n",
            "0                 Etna                NaN       Kerin O’Keefe   \n",
            "1                  NaN                NaN          Roger Voss   \n",
            "2    Willamette Valley  Willamette Valley        Paul Gregutt   \n",
            "3  Lake Michigan Shore                NaN  Alexander Peartree   \n",
            "4    Willamette Valley  Willamette Valley        Paul Gregutt   \n",
            "\n",
            "  taster_twitter_handle                                              title  \\\n",
            "0          @kerinokeefe                  Nicosia 2013 Vulkà Bianco  (Etna)   \n",
            "1            @vossroger      Quinta dos Avidagos 2011 Avidagos Red (Douro)   \n",
            "2           @paulgwine       Rainstorm 2013 Pinot Gris (Willamette Valley)   \n",
            "3                   NaN  St. Julian 2013 Reserve Late Harvest Riesling ...   \n",
            "4           @paulgwine   Sweet Cheeks 2012 Vintner's Reserve Wild Child...   \n",
            "\n",
            "          variety               winery  \\\n",
            "0     White Blend              Nicosia   \n",
            "1  Portuguese Red  Quinta dos Avidagos   \n",
            "2      Pinot Gris            Rainstorm   \n",
            "3        Riesling           St. Julian   \n",
            "4      Pinot Noir         Sweet Cheeks   \n",
            "\n",
            "                                       Cleaned_Tweet  \\\n",
            "0  aromas include tropical fruit broom brimstone ...   \n",
            "1  this is ripe and fruity a wine that is smooth ...   \n",
            "2  tart and snappy the flavors of lime flesh and ...   \n",
            "3  pineapple rind lemon pith and orange blossom s...   \n",
            "4  much like the regular bottling from  this come...   \n",
            "\n",
            "                                     Processed_Tweet  \n",
            "0  aroma includ tropic fruit broom brimston dri h...  \n",
            "1  ripe fruiti wine smooth still structur firm ta...  \n",
            "2  tart snappi flavor lime flesh rind domin green...  \n",
            "3  pineappl rind lemon pith orang blossom start a...  \n",
            "4  much like regular bottl come across rather rou...  \n"
          ]
        }
      ]
    },
    {
      "cell_type": "markdown",
      "metadata": {
        "id": "fCJ6QNL7jYWL"
      },
      "source": [
        "Vectorización de los datos"
      ]
    },
    {
      "cell_type": "code",
      "source": [
        "from sklearn.feature_extraction.text import CountVectorizer"
      ],
      "metadata": {
        "id": "3hGwJ_DTN01b"
      },
      "execution_count": null,
      "outputs": []
    },
    {
      "cell_type": "code",
      "execution_count": null,
      "metadata": {
        "id": "Cl4pH71CjaEt"
      },
      "outputs": [],
      "source": [
        "vectorizer = CountVectorizer()\n",
        "X = vectorizer.fit_transform(df['Processed_Tweet'])\n",
        "# X es ahora una matriz donde cada fila es un tweet y cada columna es una palabra con su frecuencia\n"
      ]
    },
    {
      "cell_type": "code",
      "execution_count": null,
      "metadata": {
        "id": "UFpNoVKqjeH-"
      },
      "outputs": [],
      "source": [
        "#con el codigo anterior, cada tweet se convierte en un vector donde cada columna representa una frecuencia de una palabra especifica del tweet."
      ]
    },
    {
      "cell_type": "code",
      "source": [
        "#para poder desarrollar el analsis de sentimientos, se decide usar VADER, una herramienta que permite analizar el sentimiento del texto, se le otorgan valores de referencia para las 3 categorias y se procede al entrenamiento y testeo\n",
        "nltk.download('vader_lexicon')\n",
        "from nltk.sentiment.vader import SentimentIntensityAnalyzer"
      ],
      "metadata": {
        "colab": {
          "base_uri": "https://localhost:8080/"
        },
        "id": "X-7Agmn0UK5_",
        "outputId": "7a56ad91-e97f-4678-e98b-8251ec400e7e"
      },
      "execution_count": null,
      "outputs": [
        {
          "output_type": "stream",
          "name": "stderr",
          "text": [
            "[nltk_data] Downloading package vader_lexicon to /root/nltk_data...\n"
          ]
        }
      ]
    },
    {
      "cell_type": "code",
      "execution_count": null,
      "metadata": {
        "id": "tnY829yfjrPm",
        "colab": {
          "base_uri": "https://localhost:8080/"
        },
        "outputId": "a4a8b33c-475c-437f-936a-df8b5e772e5c"
      },
      "outputs": [
        {
          "output_type": "stream",
          "name": "stdout",
          "text": [
            "   Unnamed: 0   country                                        description  \\\n",
            "0           0     Italy  Aromas include tropical fruit, broom, brimston...   \n",
            "1           1  Portugal  This is ripe and fruity, a wine that is smooth...   \n",
            "2           2        US  Tart and snappy, the flavors of lime flesh and...   \n",
            "3           3        US  Pineapple rind, lemon pith and orange blossom ...   \n",
            "4           4        US  Much like the regular bottling from 2012, this...   \n",
            "\n",
            "                          designation  points  price           province  \\\n",
            "0                        Vulkà Bianco      87    NaN  Sicily & Sardinia   \n",
            "1                            Avidagos      87   15.0              Douro   \n",
            "2                                 NaN      87   14.0             Oregon   \n",
            "3                Reserve Late Harvest      87   13.0           Michigan   \n",
            "4  Vintner's Reserve Wild Child Block      87   65.0             Oregon   \n",
            "\n",
            "              region_1           region_2         taster_name  \\\n",
            "0                 Etna                NaN       Kerin O’Keefe   \n",
            "1                  NaN                NaN          Roger Voss   \n",
            "2    Willamette Valley  Willamette Valley        Paul Gregutt   \n",
            "3  Lake Michigan Shore                NaN  Alexander Peartree   \n",
            "4    Willamette Valley  Willamette Valley        Paul Gregutt   \n",
            "\n",
            "  taster_twitter_handle                                              title  \\\n",
            "0          @kerinokeefe                  Nicosia 2013 Vulkà Bianco  (Etna)   \n",
            "1            @vossroger      Quinta dos Avidagos 2011 Avidagos Red (Douro)   \n",
            "2           @paulgwine       Rainstorm 2013 Pinot Gris (Willamette Valley)   \n",
            "3                   NaN  St. Julian 2013 Reserve Late Harvest Riesling ...   \n",
            "4           @paulgwine   Sweet Cheeks 2012 Vintner's Reserve Wild Child...   \n",
            "\n",
            "          variety               winery  \\\n",
            "0     White Blend              Nicosia   \n",
            "1  Portuguese Red  Quinta dos Avidagos   \n",
            "2      Pinot Gris            Rainstorm   \n",
            "3        Riesling           St. Julian   \n",
            "4      Pinot Noir         Sweet Cheeks   \n",
            "\n",
            "                                       Cleaned_Tweet  \\\n",
            "0  aromas include tropical fruit broom brimstone ...   \n",
            "1  this is ripe and fruity a wine that is smooth ...   \n",
            "2  tart and snappy the flavors of lime flesh and ...   \n",
            "3  pineapple rind lemon pith and orange blossom s...   \n",
            "4  much like the regular bottling from  this come...   \n",
            "\n",
            "                                     Processed_Tweet    target  \n",
            "0  aroma includ tropic fruit broom brimston dri h...  positive  \n",
            "1  ripe fruiti wine smooth still structur firm ta...  positive  \n",
            "2  tart snappi flavor lime flesh rind domin green...   neutral  \n",
            "3  pineappl rind lemon pith orang blossom start a...   neutral  \n",
            "4  much like regular bottl come across rather rou...  positive  \n"
          ]
        }
      ],
      "source": [
        "# Inicia el análisis de senitmientos\n",
        "sid = SentimentIntensityAnalyzer()\n",
        "\n",
        "# Function to apply sentiment analysis\n",
        "def get_vader_sentiment(text):\n",
        "    scores = sid.polarity_scores(text)\n",
        "    if scores['compound'] > 0.05:\n",
        "        return 'positive'\n",
        "    elif scores['compound'] < -0.05:\n",
        "        return 'negative'\n",
        "    else:\n",
        "        return 'neutral'\n",
        "\n",
        "# Apply the VADER sentiment analysis\n",
        "df['target'] = df['Processed_Tweet'].apply(get_vader_sentiment)\n",
        "\n",
        "# Now you have a target column\n",
        "print(df.head())\n",
        "\n",
        "from sklearn.model_selection import train_test_split\n",
        "\n",
        "# 'target' contiene las etiquetas de sentimiento (0 = Negativo, 1 = Positivo)\n",
        "X_train, X_test, y_train, y_test = train_test_split(X, df['target'], test_size=0.3, random_state=42)\n"
      ]
    },
    {
      "cell_type": "code",
      "execution_count": null,
      "metadata": {
        "id": "NRU8hj43lBBA",
        "colab": {
          "base_uri": "https://localhost:8080/"
        },
        "outputId": "cc53e898-bd75-4661-c6d9-17fe9f90a033"
      },
      "outputs": [
        {
          "output_type": "stream",
          "name": "stdout",
          "text": [
            "              precision    recall  f1-score   support\n",
            "\n",
            "    negative       0.87      0.86      0.86      2721\n",
            "     neutral       0.98      0.96      0.97      7431\n",
            "    positive       0.99      0.99      0.99     28840\n",
            "\n",
            "    accuracy                           0.98     38992\n",
            "   macro avg       0.94      0.94      0.94     38992\n",
            "weighted avg       0.98      0.98      0.98     38992\n",
            "\n"
          ]
        }
      ],
      "source": [
        "from sklearn.svm import SVC\n",
        "from sklearn.metrics import classification_report\n",
        "\n",
        "# Crear el modelo SVM con un kernel lineal, se usa este kernel para facilidad en el procesamiento.\n",
        "svm_model = SVC(kernel='linear')\n",
        "\n",
        "# Entrenar el modelo con los datos de entrenamiento\n",
        "svm_model.fit(X_train, y_train)\n",
        "\n",
        "# Hacer predicciones sobre los datos de prueba\n",
        "y_pred_svm = svm_model.predict(X_test)\n",
        "\n",
        "# Evaluar el modelo\n",
        "print(classification_report(y_test, y_pred_svm))\n"
      ]
    },
    {
      "cell_type": "code",
      "source": [
        "print(df)"
      ],
      "metadata": {
        "id": "r28lMTw3QRqn",
        "colab": {
          "base_uri": "https://localhost:8080/"
        },
        "outputId": "018e8e05-1951-46f9-8e7e-63f24ce0ea97"
      },
      "execution_count": null,
      "outputs": [
        {
          "output_type": "stream",
          "name": "stdout",
          "text": [
            "        Unnamed: 0   country  \\\n",
            "0                0     Italy   \n",
            "1                1  Portugal   \n",
            "2                2        US   \n",
            "3                3        US   \n",
            "4                4        US   \n",
            "...            ...       ...   \n",
            "129966      129966   Germany   \n",
            "129967      129967        US   \n",
            "129968      129968    France   \n",
            "129969      129969    France   \n",
            "129970      129970    France   \n",
            "\n",
            "                                              description  \\\n",
            "0       Aromas include tropical fruit, broom, brimston...   \n",
            "1       This is ripe and fruity, a wine that is smooth...   \n",
            "2       Tart and snappy, the flavors of lime flesh and...   \n",
            "3       Pineapple rind, lemon pith and orange blossom ...   \n",
            "4       Much like the regular bottling from 2012, this...   \n",
            "...                                                   ...   \n",
            "129966  Notes of honeysuckle and cantaloupe sweeten th...   \n",
            "129967  Citation is given as much as a decade of bottl...   \n",
            "129968  Well-drained gravel soil gives this wine its c...   \n",
            "129969  A dry style of Pinot Gris, this is crisp with ...   \n",
            "129970  Big, rich and off-dry, this is powered by inte...   \n",
            "\n",
            "                                   designation  points  price  \\\n",
            "0                                 Vulkà Bianco      87    NaN   \n",
            "1                                     Avidagos      87   15.0   \n",
            "2                                          NaN      87   14.0   \n",
            "3                         Reserve Late Harvest      87   13.0   \n",
            "4           Vintner's Reserve Wild Child Block      87   65.0   \n",
            "...                                        ...     ...    ...   \n",
            "129966  Brauneberger Juffer-Sonnenuhr Spätlese      90   28.0   \n",
            "129967                                     NaN      90   75.0   \n",
            "129968                                   Kritt      90   30.0   \n",
            "129969                                     NaN      90   32.0   \n",
            "129970           Lieu-dit Harth Cuvée Caroline      90   21.0   \n",
            "\n",
            "                 province             region_1           region_2  \\\n",
            "0       Sicily & Sardinia                 Etna                NaN   \n",
            "1                   Douro                  NaN                NaN   \n",
            "2                  Oregon    Willamette Valley  Willamette Valley   \n",
            "3                Michigan  Lake Michigan Shore                NaN   \n",
            "4                  Oregon    Willamette Valley  Willamette Valley   \n",
            "...                   ...                  ...                ...   \n",
            "129966              Mosel                  NaN                NaN   \n",
            "129967             Oregon               Oregon       Oregon Other   \n",
            "129968             Alsace               Alsace                NaN   \n",
            "129969             Alsace               Alsace                NaN   \n",
            "129970             Alsace               Alsace                NaN   \n",
            "\n",
            "               taster_name taster_twitter_handle  \\\n",
            "0            Kerin O’Keefe          @kerinokeefe   \n",
            "1               Roger Voss            @vossroger   \n",
            "2             Paul Gregutt           @paulgwine    \n",
            "3       Alexander Peartree                   NaN   \n",
            "4             Paul Gregutt           @paulgwine    \n",
            "...                    ...                   ...   \n",
            "129966  Anna Lee C. Iijima                   NaN   \n",
            "129967        Paul Gregutt           @paulgwine    \n",
            "129968          Roger Voss            @vossroger   \n",
            "129969          Roger Voss            @vossroger   \n",
            "129970          Roger Voss            @vossroger   \n",
            "\n",
            "                                                    title         variety  \\\n",
            "0                       Nicosia 2013 Vulkà Bianco  (Etna)     White Blend   \n",
            "1           Quinta dos Avidagos 2011 Avidagos Red (Douro)  Portuguese Red   \n",
            "2           Rainstorm 2013 Pinot Gris (Willamette Valley)      Pinot Gris   \n",
            "3       St. Julian 2013 Reserve Late Harvest Riesling ...        Riesling   \n",
            "4       Sweet Cheeks 2012 Vintner's Reserve Wild Child...      Pinot Noir   \n",
            "...                                                   ...             ...   \n",
            "129966  Dr. H. Thanisch (Erben Müller-Burggraef) 2013 ...        Riesling   \n",
            "129967                  Citation 2004 Pinot Noir (Oregon)      Pinot Noir   \n",
            "129968  Domaine Gresser 2013 Kritt Gewurztraminer (Als...  Gewürztraminer   \n",
            "129969      Domaine Marcel Deiss 2012 Pinot Gris (Alsace)      Pinot Gris   \n",
            "129970  Domaine Schoffit 2012 Lieu-dit Harth Cuvée Car...  Gewürztraminer   \n",
            "\n",
            "                                          winery  \\\n",
            "0                                        Nicosia   \n",
            "1                            Quinta dos Avidagos   \n",
            "2                                      Rainstorm   \n",
            "3                                     St. Julian   \n",
            "4                                   Sweet Cheeks   \n",
            "...                                          ...   \n",
            "129966  Dr. H. Thanisch (Erben Müller-Burggraef)   \n",
            "129967                                  Citation   \n",
            "129968                           Domaine Gresser   \n",
            "129969                      Domaine Marcel Deiss   \n",
            "129970                          Domaine Schoffit   \n",
            "\n",
            "                                            Cleaned_Tweet  \\\n",
            "0       aromas include tropical fruit broom brimstone ...   \n",
            "1       this is ripe and fruity a wine that is smooth ...   \n",
            "2       tart and snappy the flavors of lime flesh and ...   \n",
            "3       pineapple rind lemon pith and orange blossom s...   \n",
            "4       much like the regular bottling from  this come...   \n",
            "...                                                   ...   \n",
            "129966  notes of honeysuckle and cantaloupe sweeten th...   \n",
            "129967  citation is given as much as a decade of bottl...   \n",
            "129968  welldrained gravel soil gives this wine its cr...   \n",
            "129969  a dry style of pinot gris this is crisp with s...   \n",
            "129970  big rich and offdry this is powered by intense...   \n",
            "\n",
            "                                          Processed_Tweet    target  \n",
            "0       aroma includ tropic fruit broom brimston dri h...  positive  \n",
            "1       ripe fruiti wine smooth still structur firm ta...  positive  \n",
            "2       tart snappi flavor lime flesh rind domin green...   neutral  \n",
            "3       pineappl rind lemon pith orang blossom start a...   neutral  \n",
            "4       much like regular bottl come across rather rou...  positive  \n",
            "...                                                   ...       ...  \n",
            "129966  note honeysuckl cantaloup sweeten delici feath...  positive  \n",
            "129967  citat given much decad bottl age prior releas ...  positive  \n",
            "129968  welldrain gravel soil give wine crisp dri char...  positive  \n",
            "129969  dri style pinot gri crisp acid also weight sol...  positive  \n",
            "129970  big rich offdri power intens spici round textu...  positive  \n",
            "\n",
            "[129971 rows x 17 columns]\n"
          ]
        }
      ]
    },
    {
      "cell_type": "code",
      "source": [
        "# Confusion Matrix\n",
        "from sklearn.metrics import confusion_matrix\n",
        "confusion_matrix(y_test, y_pred_svm)\n"
      ],
      "metadata": {
        "colab": {
          "base_uri": "https://localhost:8080/"
        },
        "id": "DF-r9BAvWess",
        "outputId": "73da5874-be80-4f37-e5db-9042eb5bea98"
      },
      "execution_count": null,
      "outputs": [
        {
          "output_type": "execute_result",
          "data": {
            "text/plain": [
              "array([[ 2347,   111,   263],\n",
              "       [  136,  7166,   129],\n",
              "       [  229,    68, 28543]])"
            ]
          },
          "metadata": {},
          "execution_count": 24
        }
      ]
    },
    {
      "cell_type": "code",
      "source": [
        "import seaborn as sns"
      ],
      "metadata": {
        "id": "LYCIOymMYtfE"
      },
      "execution_count": null,
      "outputs": []
    },
    {
      "cell_type": "markdown",
      "source": [
        "De aqui hacia abajo son solo codigos para las graficas, no se usaron para la versión final del informe, se implementa tambien un dash pero no es tenido en cuenta, la visualización se encuentra en un POwer BI\n"
      ],
      "metadata": {
        "id": "7e2n4Gb0nUVV"
      }
    },
    {
      "cell_type": "code",
      "source": [
        "# Filtra los datos para el rango de interés\n",
        "xmin, xmax = 0, 500  # Define el rango del eje x\n",
        "filtered_df = df[(df['price'] >= xmin) & (df['price'] <= xmax)]\n",
        "\n",
        "# Crea el gráfico con el rango de valores filtrado\n",
        "sns.displot(data=filtered_df, x=\"price\", hue=\"target\", col=\"target\", kde=False)\n",
        "plt.show()"
      ],
      "metadata": {
        "colab": {
          "base_uri": "https://localhost:8080/",
          "height": 507
        },
        "id": "zlMq1MLWZaad",
        "outputId": "51e9590e-3d53-480a-9a70-f672318aa1c4"
      },
      "execution_count": null,
      "outputs": [
        {
          "output_type": "display_data",
          "data": {
            "text/plain": [
              "<Figure size 1610.88x500 with 3 Axes>"
            ],
            "image/png": "[encoded data removed]"
          },
          "metadata": {}
        }
      ]
    },
    {
      "cell_type": "code",
      "source": [
        "sns.displot(data=df, x=\"region_1\", hue=\"target\", col=\"target\")"
      ],
      "metadata": {
        "colab": {
          "base_uri": "https://localhost:8080/",
          "height": 524
        },
        "id": "dlztRz3pfmVd",
        "outputId": "cf84416a-9dde-4e87-c378-d941d4727db1"
      },
      "execution_count": null,
      "outputs": [
        {
          "output_type": "execute_result",
          "data": {
            "text/plain": [
              "<seaborn.axisgrid.FacetGrid at 0x79b9023fb3d0>"
            ]
          },
          "metadata": {},
          "execution_count": 37
        },
        {
          "output_type": "display_data",
          "data": {
            "text/plain": [
              "<Figure size 1610.88x500 with 3 Axes>"
            ],
            "image/png": "[encoded data removed]"
          },
          "metadata": {}
        }
      ]
    },
    {
      "cell_type": "code",
      "source": [
        "import matplotlib.pyplot as plt"
      ],
      "metadata": {
        "id": "gQ66O-AOa-Yr"
      },
      "execution_count": null,
      "outputs": []
    },
    {
      "cell_type": "code",
      "source": [
        "f, axs = plt.subplots(1, 2, figsize=(8, 4), gridspec_kw=dict(width_ratios=[4, 3]))\n",
        "sns.histplot(data=df, x=\"target\", hue=\"target\", shrink=.8, alpha=.8, legend=False, ax=axs[1])\n",
        "f.tight_layout()"
      ],
      "metadata": {
        "colab": {
          "base_uri": "https://localhost:8080/",
          "height": 407
        },
        "id": "5aCeuw1Ya6S9",
        "outputId": "64741381-13d5-43f7-a4b6-edc722e89fe1"
      },
      "execution_count": null,
      "outputs": [
        {
          "output_type": "display_data",
          "data": {
            "text/plain": [
              "<Figure size 800x400 with 2 Axes>"
            ],
            "image/png": "[encoded data removed]"
          },
          "metadata": {}
        }
      ]
    },
    {
      "cell_type": "code",
      "source": [
        "!pip install dash"
      ],
      "metadata": {
        "colab": {
          "base_uri": "https://localhost:8080/"
        },
        "collapsed": true,
        "id": "SVlTPQMjcwaq",
        "outputId": "3bbba319-3a92-4525-f81f-facec7c83f11"
      },
      "execution_count": null,
      "outputs": [
        {
          "output_type": "stream",
          "name": "stdout",
          "text": [
            "Collecting dash\n",
            "  Downloading dash-2.17.1-py3-none-any.whl.metadata (10 kB)\n",
            "Requirement already satisfied: Flask<3.1,>=1.0.4 in /usr/local/lib/python3.10/dist-packages (from dash) (2.2.5)\n",
            "Requirement already satisfied: Werkzeug<3.1 in /usr/local/lib/python3.10/dist-packages (from dash) (3.0.3)\n",
            "Requirement already satisfied: plotly>=5.0.0 in /usr/local/lib/python3.10/dist-packages (from dash) (5.15.0)\n",
            "Collecting dash-html-components==2.0.0 (from dash)\n",
            "  Downloading dash_html_components-2.0.0-py3-none-any.whl.metadata (3.8 kB)\n",
            "Collecting dash-core-components==2.0.0 (from dash)\n",
            "  Downloading dash_core_components-2.0.0-py3-none-any.whl.metadata (2.9 kB)\n",
            "Collecting dash-table==5.0.0 (from dash)\n",
            "  Downloading dash_table-5.0.0-py3-none-any.whl.metadata (2.4 kB)\n",
            "Requirement already satisfied: importlib-metadata in /usr/local/lib/python3.10/dist-packages (from dash) (8.2.0)\n",
            "Requirement already satisfied: typing-extensions>=4.1.1 in /usr/local/lib/python3.10/dist-packages (from dash) (4.12.2)\n",
            "Requirement already satisfied: requests in /usr/local/lib/python3.10/dist-packages (from dash) (2.32.3)\n",
            "Collecting retrying (from dash)\n",
            "  Downloading retrying-1.3.4-py3-none-any.whl.metadata (6.9 kB)\n",
            "Requirement already satisfied: nest-asyncio in /usr/local/lib/python3.10/dist-packages (from dash) (1.6.0)\n",
            "Requirement already satisfied: setuptools in /usr/local/lib/python3.10/dist-packages (from dash) (71.0.4)\n",
            "Requirement already satisfied: Jinja2>=3.0 in /usr/local/lib/python3.10/dist-packages (from Flask<3.1,>=1.0.4->dash) (3.1.4)\n",
            "Requirement already satisfied: itsdangerous>=2.0 in /usr/local/lib/python3.10/dist-packages (from Flask<3.1,>=1.0.4->dash) (2.2.0)\n",
            "Requirement already satisfied: click>=8.0 in /usr/local/lib/python3.10/dist-packages (from Flask<3.1,>=1.0.4->dash) (8.1.7)\n",
            "Requirement already satisfied: tenacity>=6.2.0 in /usr/local/lib/python3.10/dist-packages (from plotly>=5.0.0->dash) (9.0.0)\n",
            "Requirement already satisfied: packaging in /usr/local/lib/python3.10/dist-packages (from plotly>=5.0.0->dash) (24.1)\n",
            "Requirement already satisfied: MarkupSafe>=2.1.1 in /usr/local/lib/python3.10/dist-packages (from Werkzeug<3.1->dash) (2.1.5)\n",
            "Requirement already satisfied: zipp>=0.5 in /usr/local/lib/python3.10/dist-packages (from importlib-metadata->dash) (3.20.0)\n",
            "Requirement already satisfied: charset-normalizer<4,>=2 in /usr/local/lib/python3.10/dist-packages (from requests->dash) (3.3.2)\n",
            "Requirement already satisfied: idna<4,>=2.5 in /usr/local/lib/python3.10/dist-packages (from requests->dash) (3.7)\n",
            "Requirement already satisfied: urllib3<3,>=1.21.1 in /usr/local/lib/python3.10/dist-packages (from requests->dash) (2.0.7)\n",
            "Requirement already satisfied: certifi>=2017.4.17 in /usr/local/lib/python3.10/dist-packages (from requests->dash) (2024.7.4)\n",
            "Requirement already satisfied: six>=1.7.0 in /usr/local/lib/python3.10/dist-packages (from retrying->dash) (1.16.0)\n",
            "Downloading dash-2.17.1-py3-none-any.whl (7.5 MB)\n",
            "\u001b[2K   \u001b[90m━━━━━━━━━━━━━━━━━━━━━━━━━━━━━━━━━━━━━━━━\u001b[0m \u001b[32m7.5/7.5 MB\u001b[0m \u001b[31m24.7 MB/s\u001b[0m eta \u001b[36m0:00:00\u001b[0m\n",
            "\u001b[?25hDownloading dash_core_components-2.0.0-py3-none-any.whl (3.8 kB)\n",
            "Downloading dash_html_components-2.0.0-py3-none-any.whl (4.1 kB)\n",
            "Downloading dash_table-5.0.0-py3-none-any.whl (3.9 kB)\n",
            "Downloading retrying-1.3.4-py3-none-any.whl (11 kB)\n",
            "Installing collected packages: dash-table, dash-html-components, dash-core-components, retrying, dash\n",
            "Successfully installed dash-2.17.1 dash-core-components-2.0.0 dash-html-components-2.0.0 dash-table-5.0.0 retrying-1.3.4\n"
          ]
        }
      ]
    },
    {
      "cell_type": "code",
      "source": [
        "import dash\n",
        "from dash import dcc, html\n",
        "import plotly.express as px\n",
        "import dash_core_components as dcc\n",
        "\n",
        "\n",
        "import dash\n",
        "import dash_core_components as dcc\n",
        "import dash_html_components as html\n",
        "import plotly.express as px\n",
        "import pandas as pd\n",
        "\n",
        "# Inicializar la aplicación Dash\n",
        "app = dash.Dash(__name__)\n",
        "\n",
        "df = pd.DataFrame(df)\n",
        "\n",
        "df = df.dropna(subset=['variety'])\n",
        "\n",
        "# Gráfico 1: Distribución de Sentimientos\n",
        "fig1 = px.bar(x=['positivo', 'negativo', 'neutral'], y=[200, 150, 100], title=\"Distribución de Sentimientos\")\n",
        "\n",
        "# Gráfico 2: Precio del vino según el país\n",
        "fig2 = px.bar(df, x='country', y='price', title='Precio del Vino Según el País')\n",
        "\n",
        "# Gráfico 3: Relación entre Target y País de Origen del Vino\n",
        "fig3 = px.box(df, x='country', y='price', color='target', title='Relación entre Target y País de Origen del Vino')\n",
        "\n",
        "# Gráfico 4: Variedad y Precio del Vino\n",
        "fig4 = px.scatter(df, x='variety', y='price', title='Variedad y Precio del Vino')\n",
        "\n",
        "# Gráfico 5: Variedad y Target\n",
        "fig5 = px.sunburst(df, path=['variety', 'target'], values='price', title='Variedad vs  Target')\n",
        "\n",
        "# Configuración del Layout de la Aplicación\n",
        "app.layout = html.Div(children=[\n",
        "    html.H1(children='Dashboard de Vinos'),\n",
        "\n",
        "    dcc.Graph(\n",
        "        id='sentiment-graph',\n",
        "        figure=fig1\n",
        "    ),\n",
        "    dcc.Graph(\n",
        "        id='price-country-graph',\n",
        "        figure=fig2\n",
        "    ),\n",
        "    dcc.Graph(\n",
        "        id='target-country-graph',\n",
        "        figure=fig3\n",
        "    ),\n",
        "    dcc.Graph(\n",
        "        id='variety-price-graph',\n",
        "        figure=fig4\n",
        "    ),\n",
        "    dcc.Graph(\n",
        "        id='variety-target-graph',\n",
        "        figure=fig5\n",
        "    )\n",
        "])\n",
        "\n",
        "# Ejecutar el servidor\n",
        "if __name__ == '__main__':\n",
        "    app.run_server(debug=True)\n",
        "\n"
      ],
      "metadata": {
        "colab": {
          "base_uri": "https://localhost:8080/",
          "height": 671
        },
        "id": "I8cWnoMLchyv",
        "outputId": "3e660217-3ee6-4034-fe6e-474da9cc95ee"
      },
      "execution_count": null,
      "outputs": [
        {
          "output_type": "display_data",
          "data": {
            "text/plain": [
              "<IPython.core.display.Javascript object>"
            ],
            "application/javascript": [
              "(async (port, path, width, height, cache, element) => {\n",
              "    if (!google.colab.kernel.accessAllowed && !cache) {\n",
              "      return;\n",
              "    }\n",
              "    element.appendChild(document.createTextNode(''));\n",
              "    const url = await google.colab.kernel.proxyPort(port, {cache});\n",
              "    const iframe = document.createElement('iframe');\n",
              "    iframe.src = new URL(path, url).toString();\n",
              "    iframe.height = height;\n",
              "    iframe.width = width;\n",
              "    iframe.style.border = 0;\n",
              "    iframe.allow = [\n",
              "        'accelerometer',\n",
              "        'autoplay',\n",
              "        'camera',\n",
              "        'clipboard-read',\n",
              "        'clipboard-write',\n",
              "        'gyroscope',\n",
              "        'magnetometer',\n",
              "        'microphone',\n",
              "        'serial',\n",
              "        'usb',\n",
              "        'xr-spatial-tracking',\n",
              "    ].join('; ');\n",
              "    element.appendChild(iframe);\n",
              "  })(8050, \"/\", \"100%\", 650, false, window.element)"
            ]
          },
          "metadata": {}
        }
      ]
    },
    {
      "cell_type": "code",
      "source": [
        "#Para guardar el df en el computador\n",
        "df.to_csv('df_processed.csv', index=False)\n",
        "from google.colab import files\n",
        "files.download('df_processed.csv')"
      ],
      "metadata": {
        "id": "dRW-jEKFcGzz",
        "colab": {
          "base_uri": "https://localhost:8080/",
          "height": 17
        },
        "outputId": "d5d73f0b-b5e9-41ea-cd55-1660babc50ac"
      },
      "execution_count": null,
      "outputs": [
        {
          "output_type": "display_data",
          "data": {
            "text/plain": [
              "<IPython.core.display.Javascript object>"
            ],
            "application/javascript": [
              "\n",
              "    async function download(id, filename, size) {\n",
              "      if (!google.colab.kernel.accessAllowed) {\n",
              "        return;\n",
              "      }\n",
              "      const div = document.createElement('div');\n",
              "      const label = document.createElement('label');\n",
              "      label.textContent = `Downloading \"${filename}\": `;\n",
              "      div.appendChild(label);\n",
              "      const progress = document.createElement('progress');\n",
              "      progress.max = size;\n",
              "      div.appendChild(progress);\n",
              "      document.body.appendChild(div);\n",
              "\n",
              "      const buffers = [];\n",
              "      let downloaded = 0;\n",
              "\n",
              "      const channel = await google.colab.kernel.comms.open(id);\n",
              "      // Send a message to notify the kernel that we're ready.\n",
              "      channel.send({})\n",
              "\n",
              "      for await (const message of channel.messages) {\n",
              "        // Send a message to notify the kernel that we're ready.\n",
              "        channel.send({})\n",
              "        if (message.buffers) {\n",
              "          for (const buffer of message.buffers) {\n",
              "            buffers.push(buffer);\n",
              "            downloaded += buffer.byteLength;\n",
              "            progress.value = downloaded;\n",
              "          }\n",
              "        }\n",
              "      }\n",
              "      const blob = new Blob(buffers, {type: 'application/binary'});\n",
              "      const a = document.createElement('a');\n",
              "      a.href = window.URL.createObjectURL(blob);\n",
              "      a.download = filename;\n",
              "      div.appendChild(a);\n",
              "      a.click();\n",
              "      div.remove();\n",
              "    }\n",
              "  "
            ]
          },
          "metadata": {}
        },
        {
          "output_type": "display_data",
          "data": {
            "text/plain": [
              "<IPython.core.display.Javascript object>"
            ],
            "application/javascript": [
              "download(\"download_57648e27-ed6d-4769-8c11-9139b708353c\", \"df_processed.csv\", 105031917)"
            ]
          },
          "metadata": {}
        }
      ]
    }
  ],
  "metadata": {
    "colab": {
      "provenance": []
    },
    "kernelspec": {
      "display_name": "Python 3",
      "name": "python3"
    },
    "language_info": {
      "name": "python"
    }
  },
  "nbformat": 4,
  "nbformat_minor": 0
}